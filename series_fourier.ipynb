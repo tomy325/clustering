{
 "cells": [
  {
   "cell_type": "code",
   "execution_count": 11,
   "id": "cea988a2",
   "metadata": {},
   "outputs": [],
   "source": [
    "import numpy as np\n",
    "import pandas as pd\n",
    "import matplotlib.pyplot as plt\n",
    "import seaborn as sns\n",
    "from scipy.cluster.hierarchy import linkage, fcluster\n",
    "from sklearn.preprocessing import LabelEncoder\n",
    "from sklearn.metrics import adjusted_rand_score, adjusted_mutual_info_score, fowlkes_mallows_score, completeness_score\n",
    "import itertools\n",
    "import time"
   ]
  },
  {
   "cell_type": "code",
   "execution_count": 12,
   "id": "a562bf16",
   "metadata": {},
   "outputs": [],
   "source": [
    "\n",
    "N_CLUSTERS = 8"
   ]
  },
  {
   "cell_type": "code",
   "execution_count": 13,
   "id": "1658ea04",
   "metadata": {},
   "outputs": [],
   "source": [
    "# === FUNCIONES AUXILIARES ===\n",
    "def fourier(spike_train, a):\n",
    "\n",
    "    multiples = np.arange(1, len(a)+1)\n",
    "    # Compute sin(pi * spike_train[i] * multiples[j]) as a matrix\n",
    "    sin_matrix = np.sin(np.pi * np.outer(spike_train, multiples)) # Shape (n, k)\n",
    "\n",
    "    # Multiply each column by a[j] (broadcasting over columns)\n",
    "    weighted_matrix = sin_matrix * a\n",
    "\n",
    "    # Sum all elements to get the final scalar\n",
    "    total_sum = np.sum(weighted_matrix)\n",
    "    return   total_sum \n",
    "\n",
    "\n",
    "def fourier_dist(st1, st2, a):\n",
    "    s1 = fourier(st1, a)\n",
    "    s2 = fourier(st2, a)\n",
    "    return np.abs(s1 - s2)"
   ]
  },
  {
   "cell_type": "code",
   "execution_count": 14,
   "id": "5c9f2e4d",
   "metadata": {},
   "outputs": [],
   "source": [
    "# === CARGAR DATOS ===\n",
    "data=pd.read_csv(r'C:\\Users\\tomys\\OneDrive - Universidad Adolfo Ibanez\\repositorio\\clustering\\resultados_pipeline_20250425_070339\\spike_trains.csv')\n",
    "filters = data[\"filter\"]\n",
    "spike_trains = data.drop(columns=[\"filter\"]).apply(lambda row: row.dropna().to_numpy(), axis=1)\n",
    "label_encoder = LabelEncoder()\n",
    "true_labels = label_encoder.fit_transform(filters)"
   ]
  },
  {
   "cell_type": "code",
   "execution_count": 6,
   "id": "5e6a7807",
   "metadata": {},
   "outputs": [],
   "source": [
    "    # Crear matriz de distancias\n",
    "n = len(spike_trains)\n",
    "dist_matrix = np.zeros((n, n))\n",
    "a=np.array([1,3,-2,-1,1])\n",
    "for i in range(n):\n",
    "    for j in range(i+1, n):\n",
    "        d = fourier_dist(spike_trains.iloc[i], spike_trains.iloc[j], a)\n",
    "        dist_matrix[i, j] = d\n",
    "        dist_matrix[j, i] = d"
   ]
  },
  {
   "cell_type": "code",
   "execution_count": 7,
   "id": "d75cbd49",
   "metadata": {},
   "outputs": [],
   "source": [
    "condensed = dist_matrix[np.triu_indices(n, k=1)]\n",
    "linked = linkage(condensed, method=\"ward\")\n",
    "clusters = fcluster(linked, t=N_CLUSTERS, criterion=\"maxclust\")\n",
    "\n",
    "# Evaluación\n",
    "ari = adjusted_rand_score(true_labels, clusters)\n",
    "ami = adjusted_mutual_info_score(true_labels, clusters)\n",
    "fmi = fowlkes_mallows_score(true_labels, clusters)\n",
    "completeness = completeness_score(true_labels, clusters)\n"
   ]
  },
  {
   "cell_type": "code",
   "execution_count": 20,
   "id": "0c3e6dfb",
   "metadata": {},
   "outputs": [],
   "source": [
    "resultados=[ari,ami,fmi,completeness]\n",
    "resultados=np.array(resultados)"
   ]
  },
  {
   "cell_type": "code",
   "execution_count": 28,
   "id": "f8f2294e",
   "metadata": {},
   "outputs": [
    {
     "data": {
      "image/png": "[encoded data removed]",
      "text/plain": [
       "<Figure size 600x400 with 1 Axes>"
      ]
     },
     "metadata": {},
     "output_type": "display_data"
    }
   ],
   "source": [
    "import matplotlib.pyplot as plt\n",
    "\n",
    "nombres = [\"ARI\", \"AMI\", \"FMI\", \"Completeness\"]\n",
    "\n",
    "# Crear gráfico de barras\n",
    "plt.figure(figsize=(6, 4))\n",
    "plt.bar(nombres, resultados)\n",
    "plt.ylim(0, 1)  # Si tus valores están entre 0 y 1\n",
    "plt.title(\"Métricas de Clustering\")\n",
    "plt.ylabel(\"Valor\")\n",
    "plt.grid(axis=\"y\", linestyle=\"--\", alpha=0.7)\n",
    "plt.tight_layout()\n",
    "plt.show()"
   ]
  },
  {
   "cell_type": "code",
   "execution_count": null,
   "id": "13bbec25",
   "metadata": {},
   "outputs": [],
   "source": [
    "\n",
    "# Cargar el CSV\n",
    "df = pd.read_csv(\"resultados_gridsearch6.csv\")\n",
    "\n",
    "# Filtrar solo la mejor combinación (primer lugar según ARI)\n",
    "top1 = df.sort_values(\"ARI\", ascending=False).head(1)\n",
    "\n",
    "# Formatear nombre para el gráfico\n",
    "top1_label = f\"a1={top1['a1'].values[0]:.1f}, a2={top1['a2'].values[0]:.1f}, a3={top1['a3'].values[0]:.1f}\"\n",
    "\n",
    "# Preparar DataFrame para graficar\n",
    "top1_metrics = top1[[\"ARI\", \"AMI\", \"FMI\", \"Completeness\"]].T\n",
    "top1_metrics.columns = [top1_label]\n",
    "\n",
    "# Graficar solo una barra por métrica\n",
    "plt.figure(figsize=(8, 5))\n",
    "top1_metrics.plot(kind=\"bar\", legend=True, colormap=\"Pastel1\")\n",
    "plt.title(f\"Evaluacion cluster fourier\\n{top1_label}\")\n",
    "plt.ylabel(\"Valor\")\n",
    "plt.xticks(rotation=0)\n",
    "plt.ylim(0, 1)\n",
    "plt.tight_layout()\n",
    "plt.grid(axis=\"y\")\n",
    "\n",
    "plt.savefig(\"metricas_parametros.png\")\n",
    "plt.show()\n"
   ]
  },
  {
   "cell_type": "code",
   "execution_count": null,
   "id": "c1a5dee8",
   "metadata": {},
   "outputs": [],
   "source": [
    "resultados.append({\n",
    "        \"a1\": a1,\n",
    "        \"a2\": a2,\n",
    "        \"a3\": a3,\n",
    "        \"ARI\": ari,\n",
    "        \"AMI\": ami,\n",
    "        \"FMI\": fmi,\n",
    "        \"Completeness\": completeness\n",
    "    })"
   ]
  },
  {
   "cell_type": "code",
   "execution_count": null,
   "id": "7c55e712",
   "metadata": {},
   "outputs": [],
   "source": [
    "# === INICIAR BÚSQUEDA ===\n",
    "resultados = []\n",
    "start_time = time.time()\n",
    "\n",
    "for a1, a2, a3 in itertools.product(VALORES, VALORES, VALORES):\n",
    "    # Crear matriz de distancias\n",
    "    n = len(spike_trains)\n",
    "    dist_matrix = np.zeros((n, n))\n",
    "    for i in range(n):\n",
    "        for j in range(i+1, n):\n",
    "            d = fourier_dist(spike_trains.iloc[i], spike_trains.iloc[j], a)\n",
    "            dist_matrix[i, j] = d\n",
    "            dist_matrix[j, i] = d\n",
    "\n",
    "    # Clustering jerárquico\n",
    "    condensed = dist_matrix[np.triu_indices(n, k=1)]\n",
    "    linked = linkage(condensed, method=\"ward\")\n",
    "    clusters = fcluster(linked, t=N_CLUSTERS, criterion=\"maxclust\")\n",
    "\n",
    "    # Evaluación\n",
    "    ari = adjusted_rand_score(true_labels, clusters)\n",
    "    ami = adjusted_mutual_info_score(true_labels, clusters)\n",
    "    fmi = fowlkes_mallows_score(true_labels, clusters)\n",
    "    completeness = completeness_score(true_labels, clusters)\n",
    "\n",
    "    resultados.append({\n",
    "        \"a1\": a1,\n",
    "        \"a2\": a2,\n",
    "        \"a3\": a3,\n",
    "        \"ARI\": ari,\n",
    "        \"AMI\": ami,\n",
    "        \"FMI\": fmi,\n",
    "        \"Completeness\": completeness\n",
    "    })"
   ]
  },
  {
   "cell_type": "code",
   "execution_count": 40,
   "id": "688bc79d",
   "metadata": {},
   "outputs": [
    {
     "name": "stdout",
     "output_type": "stream",
     "text": [
      "Top 10 combinaciones:\n",
      "     a1   a2  a3       ARI       AMI       FMI  Completeness\n",
      "21  100   50  10  0.132323  0.268841  0.242447      0.281609\n",
      "18  100   10  10  0.130526  0.268486  0.251104      0.288092\n",
      "9    50   10  10  0.122160  0.261539  0.236568      0.276659\n",
      "24  100  100  10  0.119161  0.249944  0.236982      0.266757\n",
      "12   50   50  10  0.113465  0.251039  0.237950      0.271502\n",
      "19  100   10  50  0.113277  0.226325  0.228355      0.241011\n",
      "25  100  100  50  0.106434  0.224360  0.228527      0.242747\n",
      "22  100   50  50  0.105360  0.230248  0.225944      0.248194\n",
      "15   50  100  10  0.097915  0.199285  0.221531      0.217825\n",
      "13   50   50  50  0.088061  0.177713  0.208312      0.193507\n"
     ]
    }
   ],
   "source": [
    "\n",
    "\n",
    "# === GUARDAR Y MOSTRAR RESULTADOS ===\n",
    "resultados_df = pd.DataFrame(resultados)\n",
    "resultados_df.sort_values(\"ARI\", ascending=False, inplace=True)\n",
    "resultados_df.to_csv(\"resultados_gridsearch6.csv\", index=False)\n",
    "\n",
    "print(\"Top 10 combinaciones:\")\n",
    "print(resultados_df.head(10))\n",
    "\n"
   ]
  },
  {
   "cell_type": "code",
   "execution_count": 41,
   "id": "fc4ca9e2",
   "metadata": {},
   "outputs": [
    {
     "data": {
      "text/plain": [
       "<Figure size 800x500 with 0 Axes>"
      ]
     },
     "metadata": {},
     "output_type": "display_data"
    },
    {
     "data": {
      "image/png": "[encoded data removed]",
      "text/plain": [
       "<Figure size 640x480 with 1 Axes>"
      ]
     },
     "metadata": {},
     "output_type": "display_data"
    }
   ],
   "source": [
    "import pandas as pd\n",
    "import matplotlib.pyplot as plt\n",
    "import seaborn as sns\n",
    "\n",
    "# Cargar el CSV\n",
    "df = pd.read_csv(\"resultados_gridsearch6.csv\")\n",
    "\n",
    "# Filtrar solo la mejor combinación (primer lugar según ARI)\n",
    "top1 = df.sort_values(\"ARI\", ascending=False).head(1)\n",
    "\n",
    "# Formatear nombre para el gráfico\n",
    "top1_label = f\"a1={top1['a1'].values[0]:.1f}, a2={top1['a2'].values[0]:.1f}, a3={top1['a3'].values[0]:.1f}\"\n",
    "\n",
    "# Preparar DataFrame para graficar\n",
    "top1_metrics = top1[[\"ARI\", \"AMI\", \"FMI\", \"Completeness\"]].T\n",
    "top1_metrics.columns = [top1_label]\n",
    "\n",
    "# Graficar solo una barra por métrica\n",
    "plt.figure(figsize=(8, 5))\n",
    "top1_metrics.plot(kind=\"bar\", legend=True, colormap=\"Pastel1\")\n",
    "plt.title(f\"Evaluacion cluster fourier\\n{top1_label}\")\n",
    "plt.ylabel(\"Valor\")\n",
    "plt.xticks(rotation=0)\n",
    "plt.ylim(0, 1)\n",
    "plt.tight_layout()\n",
    "plt.grid(axis=\"y\")\n",
    "\n",
    "plt.savefig(\"metricas_parametros.png\")\n",
    "plt.show()\n"
   ]
  }
 ],
 "metadata": {
  "kernelspec": {
   "display_name": "Python 3",
   "language": "python",
   "name": "python3"
  },
  "language_info": {
   "codemirror_mode": {
    "name": "ipython",
    "version": 3
   },
   "file_extension": ".py",
   "mimetype": "text/x-python",
   "name": "python",
   "nbconvert_exporter": "python",
   "pygments_lexer": "ipython3",
   "version": "3.13.1"
  }
 },
 "nbformat": 4,
 "nbformat_minor": 5
}
