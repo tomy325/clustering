{
 "cells": [
  {
   "cell_type": "code",
   "execution_count": null,
   "metadata": {},
   "outputs": [],
   "source": [
    "#pip install hdbscan\n",
    "#!pip install scikit-learn-extra"
   ]
  },
  {
   "cell_type": "code",
   "execution_count": null,
   "metadata": {},
   "outputs": [],
   "source": [
    "import numpy as np\n",
    "import pandas as pd\n",
    "from scipy.spatial import distance\n",
    "from sklearn_extra.cluster import KMedoids\n",
    "from scipy.cluster.hierarchy import linkage, fcluster, dendrogram\n",
    "import matplotlib.pyplot as plt"
   ]
  },
  {
   "cell_type": "code",
   "execution_count": null,
   "metadata": {},
   "outputs": [],
   "source": [
    "d_gaus=pd.read_csv('/content/drive/MyDrive/Colab Notebooks/clustering/distancia_gaussians.csv')\n",
    "d_nonzero=pd.read_csv('/content/drive/MyDrive/Colab Notebooks/clustering/non_zero_covariance.csv')\n",
    "d_sizes=pd.read_csv('/content/drive/MyDrive/Colab Notebooks/clustering/sizes.csv')\n",
    "d_spiral=pd.read_csv('/content/drive/MyDrive/Colab Notebooks/clustering/spiral.csv')\n",
    "d_variances=pd.read_csv('/content/drive/MyDrive/Colab Notebooks/clustering/variances.csv')"
   ]
  },
  {
   "cell_type": "code",
   "execution_count": null,
   "metadata": {},
   "outputs": [],
   "source": [
    "# Función para generar una tabla con la cantidad de puntos en cada clúster\n",
    "def generate_cluster_summary(labels):\n",
    "    cluster_counts = pd.Series(labels).value_counts().sort_index()\n",
    "    summary_df = pd.DataFrame({\"Cluster\": cluster_counts.index, \"Number of Points\": cluster_counts.values})\n",
    "    return summary_df\n",
    "def elbow_method_with_distances(distance_matrix, k_range):\n",
    "    \"\"\"\n",
    "    Aplica el método del codo para encontrar el número óptimo de clusters utilizando una matriz de distancias.\n",
    "\n",
    "    Parámetros:\n",
    "    distance_matrix: ndarray de forma (n_samples, n_samples)\n",
    "        La matriz de distancias entre los puntos.\n",
    "    k_range: range\n",
    "        Rango de valores de k para probar en el método del codo.\n",
    "\n",
    "    Devuelve:\n",
    "    None (traza una gráfica del método del codo)\n",
    "    \"\"\"\n",
    "    inertia = []\n",
    "\n",
    "    for k in k_range:\n",
    "        kmedoids = KMedoids(n_clusters=k, metric='precomputed', random_state=0)\n",
    "        kmedoids.fit(distance_matrix)\n",
    "        inertia.append(kmedoids.inertia_)\n",
    "\n",
    "    # Graficar el método del codo\n",
    "    plt.figure(figsize=(8, 6))\n",
    "    plt.plot(k_range, inertia, 'bo-')\n",
    "    plt.xlabel('Número de clusters (k)')\n",
    "    plt.ylabel('Inercia')\n",
    "    plt.title('Método del codo')\n",
    "    plt.show()\n",
    "def apply_hierarchical_clustering(dist_matrix, n_clusters,criterion='inconsistent',method='single'):\n",
    "    # linkage function requires a condensed distance matrix, so we need to convert it\n",
    "    condensed_dist_matrix = distance.squareform(dist_matrix)\n",
    "    Z = linkage(condensed_dist_matrix, method)\n",
    "    labels = fcluster(Z, n_clusters, criterion)\n",
    "    return Z, labels\n",
    "def apply_kmedoids(dist_matrix, n_clusters):\n",
    "    kmedoids = KMedoids(n_clusters=n_clusters, metric='precomputed', random_state=42)\n",
    "    kmedoids.fit(dist_matrix)\n",
    "    labels = kmedoids.labels_\n",
    "    return labels"
   ]
  },
  {
   "cell_type": "code",
   "execution_count": null,
   "metadata": {},
   "outputs": [],
   "source": [
    "elbow_method_with_distances(d_gaus, range(1, 11))"
   ]
  },
  {
   "cell_type": "code",
   "execution_count": null,
   "metadata": {},
   "outputs": [],
   "source": [
    "n_clusters = 3\n",
    "labels = apply_kmedoids(d_gaus, n_clusters)\n",
    "cluster_summary = generate_cluster_summary(labels)\n",
    "\n",
    "print(cluster_summary)"
   ]
  },
  {
   "cell_type": "code",
   "execution_count": null,
   "metadata": {},
   "outputs": [],
   "source": [
    "n_clusters = 3\n",
    "Z, labels = apply_hierarchical_clustering(d_gaus, n_clusters,'maxclust','complete')\n",
    "cluster_summary = generate_cluster_summary(labels)\n",
    "\n",
    "print(cluster_summary)\n",
    "\n",
    "# Dibujar dendrograma\n",
    "plt.figure(figsize=(10, 7))\n",
    "dendrogram(Z)\n",
    "plt.title('Dendrogram')\n",
    "plt.xlabel('Points')\n",
    "plt.ylabel('Distance')\n",
    "plt.show()"
   ]
  },
  {
   "cell_type": "code",
   "execution_count": null,
   "metadata": {},
   "outputs": [],
   "source": [
    "elbow_method_with_distances(d_sizes, range(1, 11))"
   ]
  },
  {
   "cell_type": "code",
   "execution_count": null,
   "metadata": {},
   "outputs": [],
   "source": [
    "n_clusters = 2\n",
    "labels = apply_kmedoids(d_sizes, n_clusters)\n",
    "cluster_summary = generate_cluster_summary(labels)\n",
    "\n",
    "print(cluster_summary)"
   ]
  },
  {
   "cell_type": "code",
   "execution_count": null,
   "metadata": {},
   "outputs": [],
   "source": [
    "n_clusters = 2\n",
    "Z, labels = apply_hierarchical_clustering(d_sizes, n_clusters,'maxclust','ward')\n",
    "cluster_summary = generate_cluster_summary(labels)\n",
    "\n",
    "print(cluster_summary)\n",
    "\n",
    "# Dibujar dendrograma\n",
    "plt.figure(figsize=(10, 7))\n",
    "dendrogram(Z)\n",
    "plt.title('Dendrogram')\n",
    "plt.xlabel('Points')\n",
    "plt.ylabel('Distance')\n",
    "plt.show()"
   ]
  },
  {
   "cell_type": "code",
   "execution_count": null,
   "metadata": {},
   "outputs": [],
   "source": [
    "elbow_method_with_distances(d_variances, range(1, 11))"
   ]
  },
  {
   "cell_type": "code",
   "execution_count": null,
   "metadata": {},
   "outputs": [],
   "source": [
    "n_clusters = 2\n",
    "labels = apply_kmedoids(d_variances, n_clusters)\n",
    "cluster_summary = generate_cluster_summary(labels)\n",
    "\n",
    "print(cluster_summary)"
   ]
  },
  {
   "cell_type": "code",
   "execution_count": null,
   "metadata": {},
   "outputs": [],
   "source": [
    "n_clusters = 2\n",
    "Z, labels = apply_hierarchical_clustering(d_variances, n_clusters,'maxclust','ward')\n",
    "cluster_summary = generate_cluster_summary(labels)\n",
    "\n",
    "print(cluster_summary)\n",
    "\n",
    "# Dibujar dendrograma\n",
    "plt.figure(figsize=(10, 7))\n",
    "dendrogram(Z)\n",
    "plt.title('Dendrogram')\n",
    "plt.xlabel('Points')\n",
    "plt.ylabel('Distance')\n",
    "plt.show()"
   ]
  },
  {
   "cell_type": "code",
   "execution_count": null,
   "metadata": {},
   "outputs": [],
   "source": [
    "elbow_method_with_distances(d_nonzero, range(1, 11))"
   ]
  },
  {
   "cell_type": "code",
   "execution_count": null,
   "metadata": {},
   "outputs": [],
   "source": [
    "n_clusters = 2\n",
    "labels = apply_kmedoids(d_nonzero, n_clusters)\n",
    "cluster_summary = generate_cluster_summary(labels)\n",
    "\n",
    "print(cluster_summary)"
   ]
  },
  {
   "cell_type": "code",
   "execution_count": null,
   "metadata": {},
   "outputs": [],
   "source": [
    "n_clusters = 2\n",
    "Z, labels = apply_hierarchical_clustering(d_nonzero, n_clusters,'maxclust','single')\n",
    "cluster_summary = generate_cluster_summary(labels)\n",
    "\n",
    "print(cluster_summary)\n",
    "\n",
    "# Dibujar dendrograma\n",
    "plt.figure(figsize=(10, 7))\n",
    "dendrogram(Z)\n",
    "plt.title('Dendrogram')\n",
    "plt.xlabel('Points')\n",
    "plt.ylabel('Distance')\n",
    "plt.show()"
   ]
  }
 ],
 "metadata": {
  "language_info": {
   "name": "python"
  }
 },
 "nbformat": 4,
 "nbformat_minor": 2
}
