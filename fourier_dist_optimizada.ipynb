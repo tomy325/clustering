{
 "cells": [
  {
   "cell_type": "code",
   "execution_count": 2,
   "id": "4e12202f",
   "metadata": {},
   "outputs": [
    {
     "name": "stderr",
     "output_type": "stream",
     "text": [
      "Calculando matrices y evaluando clustering:   0%|          | 0/100 [00:00<?, ?it/s]"
     ]
    },
    {
     "name": "stdout",
     "output_type": "stream",
     "text": [
      "✅ Heatmap guardado en: matrices_distancia_optima\\heatmap_N=1.png\n"
     ]
    },
    {
     "name": "stderr",
     "output_type": "stream",
     "text": [
      "Calculando matrices y evaluando clustering:   1%|          | 1/100 [00:07<11:36,  7.03s/it]"
     ]
    },
    {
     "name": "stdout",
     "output_type": "stream",
     "text": [
      "✅ Heatmap guardado en: matrices_distancia_optima\\heatmap_N=2.png\n"
     ]
    },
    {
     "name": "stderr",
     "output_type": "stream",
     "text": [
      "Calculando matrices y evaluando clustering:   2%|▏         | 2/100 [00:13<10:52,  6.66s/it]"
     ]
    },
    {
     "name": "stdout",
     "output_type": "stream",
     "text": [
      "✅ Heatmap guardado en: matrices_distancia_optima\\heatmap_N=3.png\n"
     ]
    },
    {
     "name": "stderr",
     "output_type": "stream",
     "text": [
      "Calculando matrices y evaluando clustering:   3%|▎         | 3/100 [00:22<12:43,  7.87s/it]"
     ]
    },
    {
     "name": "stdout",
     "output_type": "stream",
     "text": [
      "✅ Heatmap guardado en: matrices_distancia_optima\\heatmap_N=4.png\n"
     ]
    },
    {
     "name": "stderr",
     "output_type": "stream",
     "text": [
      "Calculando matrices y evaluando clustering:   4%|▍         | 4/100 [00:35<15:48,  9.88s/it]"
     ]
    },
    {
     "name": "stdout",
     "output_type": "stream",
     "text": [
      "✅ Heatmap guardado en: matrices_distancia_optima\\heatmap_N=5.png\n"
     ]
    },
    {
     "name": "stderr",
     "output_type": "stream",
     "text": [
      "Calculando matrices y evaluando clustering:   5%|▌         | 5/100 [00:51<18:52, 11.92s/it]"
     ]
    },
    {
     "name": "stdout",
     "output_type": "stream",
     "text": [
      "✅ Heatmap guardado en: matrices_distancia_optima\\heatmap_N=6.png\n"
     ]
    },
    {
     "name": "stderr",
     "output_type": "stream",
     "text": [
      "Calculando matrices y evaluando clustering:   6%|▌         | 6/100 [01:02<18:06, 11.56s/it]"
     ]
    },
    {
     "name": "stdout",
     "output_type": "stream",
     "text": [
      "✅ Heatmap guardado en: matrices_distancia_optima\\heatmap_N=7.png\n"
     ]
    },
    {
     "name": "stderr",
     "output_type": "stream",
     "text": [
      "Calculando matrices y evaluando clustering:   7%|▋         | 7/100 [01:14<18:31, 11.96s/it]"
     ]
    },
    {
     "name": "stdout",
     "output_type": "stream",
     "text": [
      "✅ Heatmap guardado en: matrices_distancia_optima\\heatmap_N=8.png\n"
     ]
    },
    {
     "name": "stderr",
     "output_type": "stream",
     "text": [
      "Calculando matrices y evaluando clustering:   8%|▊         | 8/100 [01:21<15:50, 10.33s/it]"
     ]
    },
    {
     "name": "stdout",
     "output_type": "stream",
     "text": [
      "✅ Heatmap guardado en: matrices_distancia_optima\\heatmap_N=9.png\n"
     ]
    },
    {
     "name": "stderr",
     "output_type": "stream",
     "text": [
      "Calculando matrices y evaluando clustering:   9%|▉         | 9/100 [01:27<13:30,  8.91s/it]"
     ]
    },
    {
     "name": "stdout",
     "output_type": "stream",
     "text": [
      "✅ Heatmap guardado en: matrices_distancia_optima\\heatmap_N=10.png\n"
     ]
    },
    {
     "name": "stderr",
     "output_type": "stream",
     "text": [
      "Calculando matrices y evaluando clustering:  10%|█         | 10/100 [01:33<11:54,  7.93s/it]"
     ]
    },
    {
     "name": "stdout",
     "output_type": "stream",
     "text": [
      "✅ Heatmap guardado en: matrices_distancia_optima\\heatmap_N=11.png\n"
     ]
    },
    {
     "name": "stderr",
     "output_type": "stream",
     "text": [
      "Calculando matrices y evaluando clustering:  11%|█         | 11/100 [01:39<10:56,  7.37s/it]"
     ]
    },
    {
     "name": "stdout",
     "output_type": "stream",
     "text": [
      "✅ Heatmap guardado en: matrices_distancia_optima\\heatmap_N=12.png\n"
     ]
    },
    {
     "name": "stderr",
     "output_type": "stream",
     "text": [
      "Calculando matrices y evaluando clustering:  12%|█▏        | 12/100 [01:45<10:12,  6.96s/it]"
     ]
    },
    {
     "name": "stdout",
     "output_type": "stream",
     "text": [
      "✅ Heatmap guardado en: matrices_distancia_optima\\heatmap_N=13.png\n"
     ]
    },
    {
     "name": "stderr",
     "output_type": "stream",
     "text": [
      "Calculando matrices y evaluando clustering:  13%|█▎        | 13/100 [01:51<09:39,  6.66s/it]"
     ]
    },
    {
     "name": "stdout",
     "output_type": "stream",
     "text": [
      "✅ Heatmap guardado en: matrices_distancia_optima\\heatmap_N=14.png\n"
     ]
    },
    {
     "name": "stderr",
     "output_type": "stream",
     "text": [
      "Calculando matrices y evaluando clustering:  14%|█▍        | 14/100 [01:57<09:18,  6.49s/it]"
     ]
    },
    {
     "name": "stdout",
     "output_type": "stream",
     "text": [
      "✅ Heatmap guardado en: matrices_distancia_optima\\heatmap_N=15.png\n"
     ]
    },
    {
     "name": "stderr",
     "output_type": "stream",
     "text": [
      "Calculando matrices y evaluando clustering:  15%|█▌        | 15/100 [02:03<08:51,  6.25s/it]"
     ]
    },
    {
     "name": "stdout",
     "output_type": "stream",
     "text": [
      "✅ Heatmap guardado en: matrices_distancia_optima\\heatmap_N=16.png\n"
     ]
    },
    {
     "name": "stderr",
     "output_type": "stream",
     "text": [
      "Calculando matrices y evaluando clustering:  16%|█▌        | 16/100 [02:09<08:39,  6.19s/it]"
     ]
    },
    {
     "name": "stdout",
     "output_type": "stream",
     "text": [
      "✅ Heatmap guardado en: matrices_distancia_optima\\heatmap_N=17.png\n"
     ]
    },
    {
     "name": "stderr",
     "output_type": "stream",
     "text": [
      "Calculando matrices y evaluando clustering:  17%|█▋        | 17/100 [02:15<08:28,  6.13s/it]"
     ]
    },
    {
     "name": "stdout",
     "output_type": "stream",
     "text": [
      "✅ Heatmap guardado en: matrices_distancia_optima\\heatmap_N=18.png\n"
     ]
    },
    {
     "name": "stderr",
     "output_type": "stream",
     "text": [
      "Calculando matrices y evaluando clustering:  18%|█▊        | 18/100 [02:21<08:23,  6.14s/it]"
     ]
    },
    {
     "name": "stdout",
     "output_type": "stream",
     "text": [
      "✅ Heatmap guardado en: matrices_distancia_optima\\heatmap_N=19.png\n"
     ]
    },
    {
     "name": "stderr",
     "output_type": "stream",
     "text": [
      "Calculando matrices y evaluando clustering:  19%|█▉        | 19/100 [02:27<08:13,  6.10s/it]"
     ]
    },
    {
     "name": "stdout",
     "output_type": "stream",
     "text": [
      "✅ Heatmap guardado en: matrices_distancia_optima\\heatmap_N=20.png\n"
     ]
    },
    {
     "name": "stderr",
     "output_type": "stream",
     "text": [
      "Calculando matrices y evaluando clustering:  20%|██        | 20/100 [02:33<08:06,  6.08s/it]"
     ]
    },
    {
     "name": "stdout",
     "output_type": "stream",
     "text": [
      "✅ Heatmap guardado en: matrices_distancia_optima\\heatmap_N=21.png\n"
     ]
    },
    {
     "name": "stderr",
     "output_type": "stream",
     "text": [
      "Calculando matrices y evaluando clustering:  21%|██        | 21/100 [02:39<08:05,  6.15s/it]"
     ]
    },
    {
     "name": "stdout",
     "output_type": "stream",
     "text": [
      "✅ Heatmap guardado en: matrices_distancia_optima\\heatmap_N=22.png\n"
     ]
    },
    {
     "name": "stderr",
     "output_type": "stream",
     "text": [
      "Calculando matrices y evaluando clustering:  22%|██▏       | 22/100 [02:45<07:51,  6.04s/it]"
     ]
    },
    {
     "name": "stdout",
     "output_type": "stream",
     "text": [
      "✅ Heatmap guardado en: matrices_distancia_optima\\heatmap_N=23.png\n"
     ]
    },
    {
     "name": "stderr",
     "output_type": "stream",
     "text": [
      "Calculando matrices y evaluando clustering:  23%|██▎       | 23/100 [02:51<07:56,  6.19s/it]"
     ]
    },
    {
     "name": "stdout",
     "output_type": "stream",
     "text": [
      "✅ Heatmap guardado en: matrices_distancia_optima\\heatmap_N=24.png\n"
     ]
    },
    {
     "name": "stderr",
     "output_type": "stream",
     "text": [
      "Calculando matrices y evaluando clustering:  24%|██▍       | 24/100 [02:58<07:49,  6.18s/it]"
     ]
    },
    {
     "name": "stdout",
     "output_type": "stream",
     "text": [
      "✅ Heatmap guardado en: matrices_distancia_optima\\heatmap_N=25.png\n"
     ]
    },
    {
     "name": "stderr",
     "output_type": "stream",
     "text": [
      "Calculando matrices y evaluando clustering:  25%|██▌       | 25/100 [03:04<07:43,  6.18s/it]"
     ]
    },
    {
     "name": "stdout",
     "output_type": "stream",
     "text": [
      "✅ Heatmap guardado en: matrices_distancia_optima\\heatmap_N=26.png\n"
     ]
    },
    {
     "name": "stderr",
     "output_type": "stream",
     "text": [
      "Calculando matrices y evaluando clustering:  26%|██▌       | 26/100 [03:10<07:27,  6.05s/it]"
     ]
    },
    {
     "name": "stdout",
     "output_type": "stream",
     "text": [
      "✅ Heatmap guardado en: matrices_distancia_optima\\heatmap_N=27.png\n"
     ]
    },
    {
     "name": "stderr",
     "output_type": "stream",
     "text": [
      "Calculando matrices y evaluando clustering:  27%|██▋       | 27/100 [03:16<07:24,  6.09s/it]"
     ]
    },
    {
     "name": "stdout",
     "output_type": "stream",
     "text": [
      "✅ Heatmap guardado en: matrices_distancia_optima\\heatmap_N=28.png\n"
     ]
    },
    {
     "name": "stderr",
     "output_type": "stream",
     "text": [
      "Calculando matrices y evaluando clustering:  28%|██▊       | 28/100 [03:22<07:15,  6.05s/it]"
     ]
    },
    {
     "name": "stdout",
     "output_type": "stream",
     "text": [
      "✅ Heatmap guardado en: matrices_distancia_optima\\heatmap_N=29.png\n"
     ]
    },
    {
     "name": "stderr",
     "output_type": "stream",
     "text": [
      "Calculando matrices y evaluando clustering:  29%|██▉       | 29/100 [03:28<07:05,  5.99s/it]"
     ]
    },
    {
     "name": "stdout",
     "output_type": "stream",
     "text": [
      "✅ Heatmap guardado en: matrices_distancia_optima\\heatmap_N=30.png\n"
     ]
    },
    {
     "name": "stderr",
     "output_type": "stream",
     "text": [
      "Calculando matrices y evaluando clustering:  30%|███       | 30/100 [03:33<06:56,  5.95s/it]"
     ]
    },
    {
     "name": "stdout",
     "output_type": "stream",
     "text": [
      "✅ Heatmap guardado en: matrices_distancia_optima\\heatmap_N=31.png\n"
     ]
    },
    {
     "name": "stderr",
     "output_type": "stream",
     "text": [
      "Calculando matrices y evaluando clustering:  31%|███       | 31/100 [03:39<06:52,  5.97s/it]"
     ]
    },
    {
     "name": "stdout",
     "output_type": "stream",
     "text": [
      "✅ Heatmap guardado en: matrices_distancia_optima\\heatmap_N=32.png\n"
     ]
    },
    {
     "name": "stderr",
     "output_type": "stream",
     "text": [
      "Calculando matrices y evaluando clustering:  32%|███▏      | 32/100 [03:46<06:49,  6.02s/it]"
     ]
    },
    {
     "name": "stdout",
     "output_type": "stream",
     "text": [
      "✅ Heatmap guardado en: matrices_distancia_optima\\heatmap_N=33.png\n"
     ]
    },
    {
     "name": "stderr",
     "output_type": "stream",
     "text": [
      "Calculando matrices y evaluando clustering:  33%|███▎      | 33/100 [03:52<06:58,  6.24s/it]"
     ]
    },
    {
     "name": "stdout",
     "output_type": "stream",
     "text": [
      "✅ Heatmap guardado en: matrices_distancia_optima\\heatmap_N=34.png\n"
     ]
    },
    {
     "name": "stderr",
     "output_type": "stream",
     "text": [
      "Calculando matrices y evaluando clustering:  34%|███▍      | 34/100 [03:59<07:03,  6.42s/it]"
     ]
    },
    {
     "name": "stdout",
     "output_type": "stream",
     "text": [
      "✅ Heatmap guardado en: matrices_distancia_optima\\heatmap_N=35.png\n"
     ]
    },
    {
     "name": "stderr",
     "output_type": "stream",
     "text": [
      "Calculando matrices y evaluando clustering:  35%|███▌      | 35/100 [04:05<06:46,  6.26s/it]"
     ]
    },
    {
     "name": "stdout",
     "output_type": "stream",
     "text": [
      "✅ Heatmap guardado en: matrices_distancia_optima\\heatmap_N=36.png\n"
     ]
    },
    {
     "name": "stderr",
     "output_type": "stream",
     "text": [
      "Calculando matrices y evaluando clustering:  36%|███▌      | 36/100 [04:11<06:36,  6.20s/it]"
     ]
    },
    {
     "name": "stdout",
     "output_type": "stream",
     "text": [
      "✅ Heatmap guardado en: matrices_distancia_optima\\heatmap_N=37.png\n"
     ]
    },
    {
     "name": "stderr",
     "output_type": "stream",
     "text": [
      "Calculando matrices y evaluando clustering:  37%|███▋      | 37/100 [04:17<06:27,  6.15s/it]"
     ]
    },
    {
     "name": "stdout",
     "output_type": "stream",
     "text": [
      "✅ Heatmap guardado en: matrices_distancia_optima\\heatmap_N=38.png\n"
     ]
    },
    {
     "name": "stderr",
     "output_type": "stream",
     "text": [
      "Calculando matrices y evaluando clustering:  38%|███▊      | 38/100 [04:23<06:19,  6.13s/it]"
     ]
    },
    {
     "name": "stdout",
     "output_type": "stream",
     "text": [
      "✅ Heatmap guardado en: matrices_distancia_optima\\heatmap_N=39.png\n"
     ]
    },
    {
     "name": "stderr",
     "output_type": "stream",
     "text": [
      "Calculando matrices y evaluando clustering:  39%|███▉      | 39/100 [04:29<06:10,  6.08s/it]"
     ]
    },
    {
     "name": "stdout",
     "output_type": "stream",
     "text": [
      "✅ Heatmap guardado en: matrices_distancia_optima\\heatmap_N=40.png\n"
     ]
    },
    {
     "name": "stderr",
     "output_type": "stream",
     "text": [
      "Calculando matrices y evaluando clustering:  40%|████      | 40/100 [04:35<06:00,  6.01s/it]"
     ]
    },
    {
     "name": "stdout",
     "output_type": "stream",
     "text": [
      "✅ Heatmap guardado en: matrices_distancia_optima\\heatmap_N=41.png\n"
     ]
    },
    {
     "name": "stderr",
     "output_type": "stream",
     "text": [
      "Calculando matrices y evaluando clustering:  41%|████      | 41/100 [04:41<05:53,  5.99s/it]"
     ]
    },
    {
     "name": "stdout",
     "output_type": "stream",
     "text": [
      "✅ Heatmap guardado en: matrices_distancia_optima\\heatmap_N=42.png\n"
     ]
    },
    {
     "name": "stderr",
     "output_type": "stream",
     "text": [
      "Calculando matrices y evaluando clustering:  42%|████▏     | 42/100 [04:47<05:50,  6.05s/it]"
     ]
    },
    {
     "name": "stdout",
     "output_type": "stream",
     "text": [
      "✅ Heatmap guardado en: matrices_distancia_optima\\heatmap_N=43.png\n"
     ]
    },
    {
     "name": "stderr",
     "output_type": "stream",
     "text": [
      "Calculando matrices y evaluando clustering:  43%|████▎     | 43/100 [04:53<05:48,  6.12s/it]"
     ]
    },
    {
     "name": "stdout",
     "output_type": "stream",
     "text": [
      "✅ Heatmap guardado en: matrices_distancia_optima\\heatmap_N=44.png\n"
     ]
    },
    {
     "name": "stderr",
     "output_type": "stream",
     "text": [
      "Calculando matrices y evaluando clustering:  44%|████▍     | 44/100 [05:00<05:52,  6.30s/it]"
     ]
    },
    {
     "name": "stdout",
     "output_type": "stream",
     "text": [
      "✅ Heatmap guardado en: matrices_distancia_optima\\heatmap_N=45.png\n"
     ]
    },
    {
     "name": "stderr",
     "output_type": "stream",
     "text": [
      "Calculando matrices y evaluando clustering:  45%|████▌     | 45/100 [05:06<05:43,  6.24s/it]"
     ]
    },
    {
     "name": "stdout",
     "output_type": "stream",
     "text": [
      "✅ Heatmap guardado en: matrices_distancia_optima\\heatmap_N=46.png\n"
     ]
    },
    {
     "name": "stderr",
     "output_type": "stream",
     "text": [
      "Calculando matrices y evaluando clustering:  46%|████▌     | 46/100 [05:12<05:34,  6.19s/it]"
     ]
    },
    {
     "name": "stdout",
     "output_type": "stream",
     "text": [
      "✅ Heatmap guardado en: matrices_distancia_optima\\heatmap_N=47.png\n"
     ]
    },
    {
     "name": "stderr",
     "output_type": "stream",
     "text": [
      "Calculando matrices y evaluando clustering:  47%|████▋     | 47/100 [05:18<05:23,  6.11s/it]"
     ]
    },
    {
     "name": "stdout",
     "output_type": "stream",
     "text": [
      "✅ Heatmap guardado en: matrices_distancia_optima\\heatmap_N=48.png\n"
     ]
    },
    {
     "name": "stderr",
     "output_type": "stream",
     "text": [
      "Calculando matrices y evaluando clustering:  48%|████▊     | 48/100 [05:25<05:22,  6.19s/it]"
     ]
    },
    {
     "name": "stdout",
     "output_type": "stream",
     "text": [
      "✅ Heatmap guardado en: matrices_distancia_optima\\heatmap_N=49.png\n"
     ]
    },
    {
     "name": "stderr",
     "output_type": "stream",
     "text": [
      "Calculando matrices y evaluando clustering:  49%|████▉     | 49/100 [05:30<05:10,  6.08s/it]"
     ]
    },
    {
     "name": "stdout",
     "output_type": "stream",
     "text": [
      "✅ Heatmap guardado en: matrices_distancia_optima\\heatmap_N=50.png\n"
     ]
    },
    {
     "name": "stderr",
     "output_type": "stream",
     "text": [
      "Calculando matrices y evaluando clustering:  50%|█████     | 50/100 [05:36<05:02,  6.05s/it]"
     ]
    },
    {
     "name": "stdout",
     "output_type": "stream",
     "text": [
      "✅ Heatmap guardado en: matrices_distancia_optima\\heatmap_N=51.png\n"
     ]
    },
    {
     "name": "stderr",
     "output_type": "stream",
     "text": [
      "Calculando matrices y evaluando clustering:  51%|█████     | 51/100 [05:43<04:59,  6.12s/it]"
     ]
    },
    {
     "name": "stdout",
     "output_type": "stream",
     "text": [
      "✅ Heatmap guardado en: matrices_distancia_optima\\heatmap_N=52.png\n"
     ]
    },
    {
     "name": "stderr",
     "output_type": "stream",
     "text": [
      "Calculando matrices y evaluando clustering:  52%|█████▏    | 52/100 [05:49<04:53,  6.11s/it]"
     ]
    },
    {
     "name": "stdout",
     "output_type": "stream",
     "text": [
      "✅ Heatmap guardado en: matrices_distancia_optima\\heatmap_N=53.png\n"
     ]
    },
    {
     "name": "stderr",
     "output_type": "stream",
     "text": [
      "Calculando matrices y evaluando clustering:  53%|█████▎    | 53/100 [05:55<04:47,  6.11s/it]"
     ]
    },
    {
     "name": "stdout",
     "output_type": "stream",
     "text": [
      "✅ Heatmap guardado en: matrices_distancia_optima\\heatmap_N=54.png\n"
     ]
    },
    {
     "name": "stderr",
     "output_type": "stream",
     "text": [
      "Calculando matrices y evaluando clustering:  54%|█████▍    | 54/100 [06:01<04:39,  6.07s/it]"
     ]
    },
    {
     "name": "stdout",
     "output_type": "stream",
     "text": [
      "✅ Heatmap guardado en: matrices_distancia_optima\\heatmap_N=55.png\n"
     ]
    },
    {
     "name": "stderr",
     "output_type": "stream",
     "text": [
      "Calculando matrices y evaluando clustering:  55%|█████▌    | 55/100 [06:08<04:45,  6.33s/it]"
     ]
    },
    {
     "name": "stdout",
     "output_type": "stream",
     "text": [
      "✅ Heatmap guardado en: matrices_distancia_optima\\heatmap_N=56.png\n"
     ]
    },
    {
     "name": "stderr",
     "output_type": "stream",
     "text": [
      "Calculando matrices y evaluando clustering:  56%|█████▌    | 56/100 [06:14<04:34,  6.23s/it]"
     ]
    },
    {
     "name": "stdout",
     "output_type": "stream",
     "text": [
      "✅ Heatmap guardado en: matrices_distancia_optima\\heatmap_N=57.png\n"
     ]
    },
    {
     "name": "stderr",
     "output_type": "stream",
     "text": [
      "Calculando matrices y evaluando clustering:  57%|█████▋    | 57/100 [06:20<04:28,  6.24s/it]"
     ]
    },
    {
     "name": "stdout",
     "output_type": "stream",
     "text": [
      "✅ Heatmap guardado en: matrices_distancia_optima\\heatmap_N=58.png\n"
     ]
    },
    {
     "name": "stderr",
     "output_type": "stream",
     "text": [
      "Calculando matrices y evaluando clustering:  58%|█████▊    | 58/100 [06:26<04:17,  6.13s/it]"
     ]
    },
    {
     "name": "stdout",
     "output_type": "stream",
     "text": [
      "✅ Heatmap guardado en: matrices_distancia_optima\\heatmap_N=59.png\n"
     ]
    },
    {
     "name": "stderr",
     "output_type": "stream",
     "text": [
      "Calculando matrices y evaluando clustering:  59%|█████▉    | 59/100 [06:32<04:14,  6.21s/it]"
     ]
    },
    {
     "name": "stdout",
     "output_type": "stream",
     "text": [
      "✅ Heatmap guardado en: matrices_distancia_optima\\heatmap_N=60.png\n"
     ]
    },
    {
     "name": "stderr",
     "output_type": "stream",
     "text": [
      "Calculando matrices y evaluando clustering:  60%|██████    | 60/100 [06:39<04:08,  6.21s/it]"
     ]
    },
    {
     "name": "stdout",
     "output_type": "stream",
     "text": [
      "✅ Heatmap guardado en: matrices_distancia_optima\\heatmap_N=61.png\n"
     ]
    },
    {
     "name": "stderr",
     "output_type": "stream",
     "text": [
      "Calculando matrices y evaluando clustering:  61%|██████    | 61/100 [06:45<04:01,  6.18s/it]"
     ]
    },
    {
     "name": "stdout",
     "output_type": "stream",
     "text": [
      "✅ Heatmap guardado en: matrices_distancia_optima\\heatmap_N=62.png\n"
     ]
    },
    {
     "name": "stderr",
     "output_type": "stream",
     "text": [
      "Calculando matrices y evaluando clustering:  62%|██████▏   | 62/100 [06:51<03:53,  6.14s/it]"
     ]
    },
    {
     "name": "stdout",
     "output_type": "stream",
     "text": [
      "✅ Heatmap guardado en: matrices_distancia_optima\\heatmap_N=63.png\n"
     ]
    },
    {
     "name": "stderr",
     "output_type": "stream",
     "text": [
      "Calculando matrices y evaluando clustering:  63%|██████▎   | 63/100 [06:57<03:52,  6.28s/it]"
     ]
    },
    {
     "name": "stdout",
     "output_type": "stream",
     "text": [
      "✅ Heatmap guardado en: matrices_distancia_optima\\heatmap_N=64.png\n"
     ]
    },
    {
     "name": "stderr",
     "output_type": "stream",
     "text": [
      "Calculando matrices y evaluando clustering:  64%|██████▍   | 64/100 [07:03<03:44,  6.24s/it]"
     ]
    },
    {
     "name": "stdout",
     "output_type": "stream",
     "text": [
      "✅ Heatmap guardado en: matrices_distancia_optima\\heatmap_N=65.png\n"
     ]
    },
    {
     "name": "stderr",
     "output_type": "stream",
     "text": [
      "Calculando matrices y evaluando clustering:  65%|██████▌   | 65/100 [07:10<03:37,  6.22s/it]"
     ]
    },
    {
     "name": "stdout",
     "output_type": "stream",
     "text": [
      "✅ Heatmap guardado en: matrices_distancia_optima\\heatmap_N=66.png\n"
     ]
    },
    {
     "name": "stderr",
     "output_type": "stream",
     "text": [
      "Calculando matrices y evaluando clustering:  66%|██████▌   | 66/100 [07:16<03:31,  6.22s/it]"
     ]
    },
    {
     "name": "stdout",
     "output_type": "stream",
     "text": [
      "✅ Heatmap guardado en: matrices_distancia_optima\\heatmap_N=67.png\n"
     ]
    },
    {
     "name": "stderr",
     "output_type": "stream",
     "text": [
      "Calculando matrices y evaluando clustering:  67%|██████▋   | 67/100 [07:22<03:23,  6.17s/it]"
     ]
    },
    {
     "name": "stdout",
     "output_type": "stream",
     "text": [
      "✅ Heatmap guardado en: matrices_distancia_optima\\heatmap_N=68.png\n"
     ]
    },
    {
     "name": "stderr",
     "output_type": "stream",
     "text": [
      "Calculando matrices y evaluando clustering:  68%|██████▊   | 68/100 [07:28<03:16,  6.15s/it]"
     ]
    },
    {
     "name": "stdout",
     "output_type": "stream",
     "text": [
      "✅ Heatmap guardado en: matrices_distancia_optima\\heatmap_N=69.png\n"
     ]
    },
    {
     "name": "stderr",
     "output_type": "stream",
     "text": [
      "Calculando matrices y evaluando clustering:  69%|██████▉   | 69/100 [07:35<03:13,  6.25s/it]"
     ]
    },
    {
     "name": "stdout",
     "output_type": "stream",
     "text": [
      "✅ Heatmap guardado en: matrices_distancia_optima\\heatmap_N=70.png\n"
     ]
    },
    {
     "name": "stderr",
     "output_type": "stream",
     "text": [
      "Calculando matrices y evaluando clustering:  70%|███████   | 70/100 [07:42<03:16,  6.56s/it]"
     ]
    },
    {
     "name": "stdout",
     "output_type": "stream",
     "text": [
      "✅ Heatmap guardado en: matrices_distancia_optima\\heatmap_N=71.png\n"
     ]
    },
    {
     "name": "stderr",
     "output_type": "stream",
     "text": [
      "Calculando matrices y evaluando clustering:  71%|███████   | 71/100 [07:48<03:08,  6.49s/it]"
     ]
    },
    {
     "name": "stdout",
     "output_type": "stream",
     "text": [
      "✅ Heatmap guardado en: matrices_distancia_optima\\heatmap_N=72.png\n"
     ]
    },
    {
     "name": "stderr",
     "output_type": "stream",
     "text": [
      "Calculando matrices y evaluando clustering:  72%|███████▏  | 72/100 [07:54<02:58,  6.38s/it]"
     ]
    },
    {
     "name": "stdout",
     "output_type": "stream",
     "text": [
      "✅ Heatmap guardado en: matrices_distancia_optima\\heatmap_N=73.png\n"
     ]
    },
    {
     "name": "stderr",
     "output_type": "stream",
     "text": [
      "Calculando matrices y evaluando clustering:  73%|███████▎  | 73/100 [08:01<02:54,  6.46s/it]"
     ]
    },
    {
     "name": "stdout",
     "output_type": "stream",
     "text": [
      "✅ Heatmap guardado en: matrices_distancia_optima\\heatmap_N=74.png\n"
     ]
    },
    {
     "name": "stderr",
     "output_type": "stream",
     "text": [
      "Calculando matrices y evaluando clustering:  74%|███████▍  | 74/100 [08:07<02:47,  6.45s/it]"
     ]
    },
    {
     "name": "stdout",
     "output_type": "stream",
     "text": [
      "✅ Heatmap guardado en: matrices_distancia_optima\\heatmap_N=75.png\n"
     ]
    },
    {
     "name": "stderr",
     "output_type": "stream",
     "text": [
      "Calculando matrices y evaluando clustering:  75%|███████▌  | 75/100 [08:13<02:38,  6.32s/it]"
     ]
    },
    {
     "name": "stdout",
     "output_type": "stream",
     "text": [
      "✅ Heatmap guardado en: matrices_distancia_optima\\heatmap_N=76.png\n"
     ]
    },
    {
     "name": "stderr",
     "output_type": "stream",
     "text": [
      "Calculando matrices y evaluando clustering:  76%|███████▌  | 76/100 [08:20<02:31,  6.30s/it]"
     ]
    },
    {
     "name": "stdout",
     "output_type": "stream",
     "text": [
      "✅ Heatmap guardado en: matrices_distancia_optima\\heatmap_N=77.png\n"
     ]
    },
    {
     "name": "stderr",
     "output_type": "stream",
     "text": [
      "Calculando matrices y evaluando clustering:  77%|███████▋  | 77/100 [08:27<02:31,  6.59s/it]"
     ]
    },
    {
     "name": "stdout",
     "output_type": "stream",
     "text": [
      "✅ Heatmap guardado en: matrices_distancia_optima\\heatmap_N=78.png\n"
     ]
    },
    {
     "name": "stderr",
     "output_type": "stream",
     "text": [
      "Calculando matrices y evaluando clustering:  78%|███████▊  | 78/100 [08:40<03:10,  8.68s/it]"
     ]
    },
    {
     "name": "stdout",
     "output_type": "stream",
     "text": [
      "✅ Heatmap guardado en: matrices_distancia_optima\\heatmap_N=79.png\n"
     ]
    },
    {
     "name": "stderr",
     "output_type": "stream",
     "text": [
      "Calculando matrices y evaluando clustering:  79%|███████▉  | 79/100 [08:53<03:26,  9.83s/it]"
     ]
    },
    {
     "name": "stdout",
     "output_type": "stream",
     "text": [
      "✅ Heatmap guardado en: matrices_distancia_optima\\heatmap_N=80.png\n"
     ]
    },
    {
     "name": "stderr",
     "output_type": "stream",
     "text": [
      "Calculando matrices y evaluando clustering:  80%|████████  | 80/100 [09:06<03:33, 10.66s/it]"
     ]
    },
    {
     "name": "stdout",
     "output_type": "stream",
     "text": [
      "✅ Heatmap guardado en: matrices_distancia_optima\\heatmap_N=81.png\n"
     ]
    },
    {
     "name": "stderr",
     "output_type": "stream",
     "text": [
      "Calculando matrices y evaluando clustering:  81%|████████  | 81/100 [09:22<03:55, 12.41s/it]"
     ]
    },
    {
     "name": "stdout",
     "output_type": "stream",
     "text": [
      "✅ Heatmap guardado en: matrices_distancia_optima\\heatmap_N=82.png\n"
     ]
    },
    {
     "name": "stderr",
     "output_type": "stream",
     "text": [
      "Calculando matrices y evaluando clustering:  82%|████████▏ | 82/100 [09:39<04:05, 13.63s/it]"
     ]
    },
    {
     "name": "stdout",
     "output_type": "stream",
     "text": [
      "✅ Heatmap guardado en: matrices_distancia_optima\\heatmap_N=83.png\n"
     ]
    },
    {
     "name": "stderr",
     "output_type": "stream",
     "text": [
      "Calculando matrices y evaluando clustering:  83%|████████▎ | 83/100 [09:53<03:56, 13.93s/it]"
     ]
    },
    {
     "name": "stdout",
     "output_type": "stream",
     "text": [
      "✅ Heatmap guardado en: matrices_distancia_optima\\heatmap_N=84.png\n"
     ]
    },
    {
     "name": "stderr",
     "output_type": "stream",
     "text": [
      "Calculando matrices y evaluando clustering:  84%|████████▍ | 84/100 [10:06<03:37, 13.58s/it]"
     ]
    },
    {
     "name": "stdout",
     "output_type": "stream",
     "text": [
      "✅ Heatmap guardado en: matrices_distancia_optima\\heatmap_N=85.png\n"
     ]
    },
    {
     "name": "stderr",
     "output_type": "stream",
     "text": [
      "Calculando matrices y evaluando clustering:  85%|████████▌ | 85/100 [10:18<03:18, 13.21s/it]"
     ]
    },
    {
     "name": "stdout",
     "output_type": "stream",
     "text": [
      "✅ Heatmap guardado en: matrices_distancia_optima\\heatmap_N=86.png\n"
     ]
    },
    {
     "name": "stderr",
     "output_type": "stream",
     "text": [
      "Calculando matrices y evaluando clustering:  86%|████████▌ | 86/100 [10:30<02:59, 12.82s/it]"
     ]
    },
    {
     "name": "stdout",
     "output_type": "stream",
     "text": [
      "✅ Heatmap guardado en: matrices_distancia_optima\\heatmap_N=87.png\n"
     ]
    },
    {
     "name": "stderr",
     "output_type": "stream",
     "text": [
      "Calculando matrices y evaluando clustering:  87%|████████▋ | 87/100 [10:44<02:49, 13.01s/it]"
     ]
    },
    {
     "name": "stdout",
     "output_type": "stream",
     "text": [
      "✅ Heatmap guardado en: matrices_distancia_optima\\heatmap_N=88.png\n"
     ]
    },
    {
     "name": "stderr",
     "output_type": "stream",
     "text": [
      "Calculando matrices y evaluando clustering:  88%|████████▊ | 88/100 [10:55<02:31, 12.60s/it]"
     ]
    },
    {
     "name": "stdout",
     "output_type": "stream",
     "text": [
      "✅ Heatmap guardado en: matrices_distancia_optima\\heatmap_N=89.png\n"
     ]
    },
    {
     "name": "stderr",
     "output_type": "stream",
     "text": [
      "Calculando matrices y evaluando clustering:  89%|████████▉ | 89/100 [11:07<02:16, 12.41s/it]"
     ]
    },
    {
     "name": "stdout",
     "output_type": "stream",
     "text": [
      "✅ Heatmap guardado en: matrices_distancia_optima\\heatmap_N=90.png\n"
     ]
    },
    {
     "name": "stderr",
     "output_type": "stream",
     "text": [
      "Calculando matrices y evaluando clustering:  90%|█████████ | 90/100 [11:20<02:05, 12.58s/it]"
     ]
    },
    {
     "name": "stdout",
     "output_type": "stream",
     "text": [
      "✅ Heatmap guardado en: matrices_distancia_optima\\heatmap_N=91.png\n"
     ]
    },
    {
     "name": "stderr",
     "output_type": "stream",
     "text": [
      "Calculando matrices y evaluando clustering:  91%|█████████ | 91/100 [11:33<01:52, 12.51s/it]"
     ]
    },
    {
     "name": "stdout",
     "output_type": "stream",
     "text": [
      "✅ Heatmap guardado en: matrices_distancia_optima\\heatmap_N=92.png\n"
     ]
    },
    {
     "name": "stderr",
     "output_type": "stream",
     "text": [
      "Calculando matrices y evaluando clustering:  92%|█████████▏| 92/100 [11:45<01:39, 12.49s/it]"
     ]
    },
    {
     "name": "stdout",
     "output_type": "stream",
     "text": [
      "✅ Heatmap guardado en: matrices_distancia_optima\\heatmap_N=93.png\n"
     ]
    },
    {
     "name": "stderr",
     "output_type": "stream",
     "text": [
      "Calculando matrices y evaluando clustering:  93%|█████████▎| 93/100 [11:58<01:29, 12.72s/it]"
     ]
    },
    {
     "name": "stdout",
     "output_type": "stream",
     "text": [
      "✅ Heatmap guardado en: matrices_distancia_optima\\heatmap_N=94.png\n"
     ]
    },
    {
     "name": "stderr",
     "output_type": "stream",
     "text": [
      "Calculando matrices y evaluando clustering:  94%|█████████▍| 94/100 [12:11<01:15, 12.61s/it]"
     ]
    },
    {
     "name": "stdout",
     "output_type": "stream",
     "text": [
      "✅ Heatmap guardado en: matrices_distancia_optima\\heatmap_N=95.png\n"
     ]
    },
    {
     "name": "stderr",
     "output_type": "stream",
     "text": [
      "Calculando matrices y evaluando clustering:  95%|█████████▌| 95/100 [12:23<01:02, 12.59s/it]"
     ]
    },
    {
     "name": "stdout",
     "output_type": "stream",
     "text": [
      "✅ Heatmap guardado en: matrices_distancia_optima\\heatmap_N=96.png\n"
     ]
    },
    {
     "name": "stderr",
     "output_type": "stream",
     "text": [
      "Calculando matrices y evaluando clustering:  96%|█████████▌| 96/100 [12:37<00:51, 12.87s/it]"
     ]
    },
    {
     "name": "stdout",
     "output_type": "stream",
     "text": [
      "✅ Heatmap guardado en: matrices_distancia_optima\\heatmap_N=97.png\n"
     ]
    },
    {
     "name": "stderr",
     "output_type": "stream",
     "text": [
      "Calculando matrices y evaluando clustering:  97%|█████████▋| 97/100 [12:49<00:38, 12.67s/it]"
     ]
    },
    {
     "name": "stdout",
     "output_type": "stream",
     "text": [
      "✅ Heatmap guardado en: matrices_distancia_optima\\heatmap_N=98.png\n"
     ]
    },
    {
     "name": "stderr",
     "output_type": "stream",
     "text": [
      "Calculando matrices y evaluando clustering:  98%|█████████▊| 98/100 [13:01<00:25, 12.58s/it]"
     ]
    },
    {
     "name": "stdout",
     "output_type": "stream",
     "text": [
      "✅ Heatmap guardado en: matrices_distancia_optima\\heatmap_N=99.png\n"
     ]
    },
    {
     "name": "stderr",
     "output_type": "stream",
     "text": [
      "Calculando matrices y evaluando clustering:  99%|█████████▉| 99/100 [13:13<00:12, 12.46s/it]"
     ]
    },
    {
     "name": "stdout",
     "output_type": "stream",
     "text": [
      "✅ Heatmap guardado en: matrices_distancia_optima\\heatmap_N=100.png\n"
     ]
    },
    {
     "name": "stderr",
     "output_type": "stream",
     "text": [
      "Calculando matrices y evaluando clustering: 100%|██████████| 100/100 [13:25<00:00,  8.05s/it]\n"
     ]
    },
    {
     "data": {
      "application/vnd.microsoft.datawrangler.viewer.v0+json": {
       "columns": [
        {
         "name": "index",
         "rawType": "int64",
         "type": "integer"
        },
        {
         "name": "N",
         "rawType": "int64",
         "type": "integer"
        },
        {
         "name": "Distance",
         "rawType": "object",
         "type": "string"
        },
        {
         "name": "Method",
         "rawType": "object",
         "type": "string"
        },
        {
         "name": "ARI",
         "rawType": "float64",
         "type": "float"
        },
        {
         "name": "AMI",
         "rawType": "float64",
         "type": "float"
        },
        {
         "name": "FMI",
         "rawType": "float64",
         "type": "float"
        },
        {
         "name": "Completeness",
         "rawType": "float64",
         "type": "float"
        }
       ],
       "ref": "8445bb0e-e42b-456e-9cd6-bf7a4c5b9d47",
       "rows": [
        [
         "0",
         "1",
         "N=1",
         "single",
         "1.0223022093865288e-05",
         "-0.00018466704628809216",
         "0.3484922234666969",
         "0.25478315350787023"
        ],
        [
         "1",
         "1",
         "N=1",
         "complete",
         "0.2363531614536619",
         "0.44312331872035515",
         "0.3712296851578878",
         "0.49383718838123086"
        ],
        [
         "2",
         "1",
         "N=1",
         "average",
         "0.2419688365789319",
         "0.4528471685877149",
         "0.40562482987601683",
         "0.5601246456117407"
        ],
        [
         "3",
         "1",
         "N=1",
         "ward",
         "0.3033835683708238",
         "0.47209733124849906",
         "0.41424225179266094",
         "0.5110839719408777"
        ],
        [
         "4",
         "1",
         "N=1",
         "Spectral",
         "0.1400042271510729",
         "0.3819065361704097",
         "0.34060907157521325",
         "0.4811296624697877"
        ],
        [
         "5",
         "2",
         "N=2",
         "single",
         "0.0002944646193674399",
         "0.013785122119518529",
         "0.34621157540373165",
         "0.31787227549911323"
        ],
        [
         "6",
         "2",
         "N=2",
         "complete",
         "0.31192631942830323",
         "0.48856427560504573",
         "0.41696110723127083",
         "0.5262752500736866"
        ],
        [
         "7",
         "2",
         "N=2",
         "average",
         "0.2569124342427382",
         "0.47723567381861",
         "0.3919074774562508",
         "0.5423955027692944"
        ],
        [
         "8",
         "2",
         "N=2",
         "ward",
         "0.27563101452310085",
         "0.48276407802862614",
         "0.3901213449531455",
         "0.5210552679064303"
        ],
        [
         "9",
         "2",
         "N=2",
         "Spectral",
         "0.33617905992705077",
         "0.5060945251428884",
         "0.44467687816450974",
         "0.5466116323305952"
        ],
        [
         "10",
         "3",
         "N=3",
         "single",
         "2.955945000450372e-06",
         "0.0014293175275483863",
         "0.34848324471670417",
         "0.2775305029271591"
        ],
        [
         "11",
         "3",
         "N=3",
         "complete",
         "0.2904596123209285",
         "0.5065763214944741",
         "0.40937992467707673",
         "0.55834586979065"
        ],
        [
         "12",
         "3",
         "N=3",
         "average",
         "0.2837246595518883",
         "0.5098897536872691",
         "0.41537972681658347",
         "0.5803515061990467"
        ],
        [
         "13",
         "3",
         "N=3",
         "ward",
         "0.3429729497020889",
         "0.5343687990570944",
         "0.43615780324195474",
         "0.5577973722439228"
        ],
        [
         "14",
         "3",
         "N=3",
         "Spectral",
         "0.33727061882597914",
         "0.5015962277511586",
         "0.4314090374647463",
         "0.5278971417588539"
        ],
        [
         "15",
         "4",
         "N=4",
         "single",
         "1.0137439539067233e-05",
         "1.6787067628535276e-05",
         "0.3489318496408161",
         "0.2715880850576633"
        ],
        [
         "16",
         "4",
         "N=4",
         "complete",
         "0.29242112691969757",
         "0.5001429816500423",
         "0.41792401206582824",
         "0.560967553264725"
        ],
        [
         "17",
         "4",
         "N=4",
         "average",
         "0.3267780402561005",
         "0.5300851201781304",
         "0.4547133389390173",
         "0.6062314875749749"
        ],
        [
         "18",
         "4",
         "N=4",
         "ward",
         "0.29885936798421997",
         "0.5089542979627746",
         "0.39413247165144744",
         "0.5289191051123859"
        ],
        [
         "19",
         "4",
         "N=4",
         "Spectral",
         "0.2893417204780496",
         "0.4701620291773265",
         "0.39005906943706553",
         "0.49363269988707803"
        ],
        [
         "20",
         "5",
         "N=5",
         "single",
         "2.886039188382614e-06",
         "4.6977245110346754e-06",
         "0.3489228822061667",
         "0.27139827923134446"
        ],
        [
         "21",
         "5",
         "N=5",
         "complete",
         "0.37162957746040304",
         "0.5751062295009889",
         "0.4651405673331026",
         "0.6095222221243127"
        ],
        [
         "22",
         "5",
         "N=5",
         "average",
         "0.5197500155169745",
         "0.663925645233351",
         "0.6041306586727314",
         "0.7329567920552957"
        ],
        [
         "23",
         "5",
         "N=5",
         "ward",
         "0.4287000176254938",
         "0.6153682521898837",
         "0.5094885690746288",
         "0.6396552648484953"
        ],
        [
         "24",
         "5",
         "N=5",
         "Spectral",
         "0.4265112755956368",
         "0.5647105530994397",
         "0.506196230069155",
         "0.5884607574073842"
        ],
        [
         "25",
         "6",
         "N=6",
         "single",
         "0.1532574143261338",
         "0.4097566052222356",
         "0.43985130232651726",
         "0.9200291206210433"
        ],
        [
         "26",
         "6",
         "N=6",
         "complete",
         "0.4552951006840823",
         "0.6416462409904167",
         "0.5437421111144023",
         "0.6958759590222644"
        ],
        [
         "27",
         "6",
         "N=6",
         "average",
         "0.5650591449059633",
         "0.7220655423458701",
         "0.6432573011174814",
         "0.7866250273744533"
        ],
        [
         "28",
         "6",
         "N=6",
         "ward",
         "0.5776094639147472",
         "0.7218476006792662",
         "0.6446865802107031",
         "0.7606987578244297"
        ],
        [
         "29",
         "6",
         "N=6",
         "Spectral",
         "0.51586845379325",
         "0.6526656853621566",
         "0.5817414718436078",
         "0.6715349046852621"
        ],
        [
         "30",
         "7",
         "N=7",
         "single",
         "0.15572634271318633",
         "0.41455789936028975",
         "0.43930189566749495",
         "0.8945133622388076"
        ],
        [
         "31",
         "7",
         "N=7",
         "complete",
         "0.46096737640008495",
         "0.6408174706899328",
         "0.5477001132107508",
         "0.6861583275071214"
        ],
        [
         "32",
         "7",
         "N=7",
         "average",
         "0.5151149625458219",
         "0.7009012121784323",
         "0.6243259031400591",
         "0.8326769701544395"
        ],
        [
         "33",
         "7",
         "N=7",
         "ward",
         "0.49500190785599757",
         "0.6748189688556908",
         "0.5767015963922094",
         "0.723272838218835"
        ],
        [
         "34",
         "7",
         "N=7",
         "Spectral",
         "0.6719134434923546",
         "0.7713772686145427",
         "0.7164685034975531",
         "0.7891661355799202"
        ],
        [
         "35",
         "8",
         "N=8",
         "single",
         "0.3784282366870609",
         "0.6536960535842169",
         "0.5692032287759526",
         "0.9567670947652125"
        ],
        [
         "36",
         "8",
         "N=8",
         "complete",
         "0.4551528878822197",
         "0.6428298747646829",
         "0.5469542194822616",
         "0.6957858766965387"
        ],
        [
         "37",
         "8",
         "N=8",
         "average",
         "0.6124993814460407",
         "0.7652289184429907",
         "0.6836599705228592",
         "0.8356582199997153"
        ],
        [
         "38",
         "8",
         "N=8",
         "ward",
         "0.5804534583750737",
         "0.7333035895735995",
         "0.6459806827382902",
         "0.7741969651673195"
        ],
        [
         "39",
         "8",
         "N=8",
         "Spectral",
         "0.7018950489610994",
         "0.7900674205053997",
         "0.7435916490814413",
         "0.8107635848557333"
        ],
        [
         "40",
         "9",
         "N=9",
         "single",
         "0.3792660651847847",
         "0.655407611552678",
         "0.569695961862524",
         "0.9589489391131871"
        ],
        [
         "41",
         "9",
         "N=9",
         "complete",
         "0.46790118582277146",
         "0.6626566800789402",
         "0.5561977680256667",
         "0.7154536517397565"
        ],
        [
         "42",
         "9",
         "N=9",
         "average",
         "0.5311221900267629",
         "0.7073316858010253",
         "0.6274389435983312",
         "0.805237130673264"
        ],
        [
         "43",
         "9",
         "N=9",
         "ward",
         "0.5542529325223042",
         "0.7156975314719334",
         "0.6256216842918175",
         "0.7579122637201564"
        ],
        [
         "44",
         "9",
         "N=9",
         "Spectral",
         "0.7569832974070012",
         "0.8377321733598045",
         "0.7919048386718048",
         "0.8586260568473278"
        ],
        [
         "45",
         "10",
         "N=10",
         "single",
         "0.38065186511701027",
         "0.6571123610114955",
         "0.5715762901018888",
         "0.9676272614347631"
        ],
        [
         "46",
         "10",
         "N=10",
         "complete",
         "0.4560084356071951",
         "0.6581502889335892",
         "0.5518605615397777",
         "0.718468935028072"
        ],
        [
         "47",
         "10",
         "N=10",
         "average",
         "0.5341972976647544",
         "0.7138701981029772",
         "0.631668291147115",
         "0.8259125101665801"
        ],
        [
         "48",
         "10",
         "N=10",
         "ward",
         "0.5028854767265338",
         "0.681462609596467",
         "0.5874608984787841",
         "0.7358301298633123"
        ],
        [
         "49",
         "10",
         "N=10",
         "Spectral",
         "0.787833999849292",
         "0.8678518945900547",
         "0.8195303050665922",
         "0.8905417083549042"
        ]
       ],
       "shape": {
        "columns": 7,
        "rows": 500
       }
      },
      "text/html": [
       "<div>\n",
       "<style scoped>\n",
       "    .dataframe tbody tr th:only-of-type {\n",
       "        vertical-align: middle;\n",
       "    }\n",
       "\n",
       "    .dataframe tbody tr th {\n",
       "        vertical-align: top;\n",
       "    }\n",
       "\n",
       "    .dataframe thead th {\n",
       "        text-align: right;\n",
       "    }\n",
       "</style>\n",
       "<table border=\"1\" class=\"dataframe\">\n",
       "  <thead>\n",
       "    <tr style=\"text-align: right;\">\n",
       "      <th></th>\n",
       "      <th>N</th>\n",
       "      <th>Distance</th>\n",
       "      <th>Method</th>\n",
       "      <th>ARI</th>\n",
       "      <th>AMI</th>\n",
       "      <th>FMI</th>\n",
       "      <th>Completeness</th>\n",
       "    </tr>\n",
       "  </thead>\n",
       "  <tbody>\n",
       "    <tr>\n",
       "      <th>0</th>\n",
       "      <td>1</td>\n",
       "      <td>N=1</td>\n",
       "      <td>single</td>\n",
       "      <td>0.000010</td>\n",
       "      <td>-0.000185</td>\n",
       "      <td>0.348492</td>\n",
       "      <td>0.254783</td>\n",
       "    </tr>\n",
       "    <tr>\n",
       "      <th>1</th>\n",
       "      <td>1</td>\n",
       "      <td>N=1</td>\n",
       "      <td>complete</td>\n",
       "      <td>0.236353</td>\n",
       "      <td>0.443123</td>\n",
       "      <td>0.371230</td>\n",
       "      <td>0.493837</td>\n",
       "    </tr>\n",
       "    <tr>\n",
       "      <th>2</th>\n",
       "      <td>1</td>\n",
       "      <td>N=1</td>\n",
       "      <td>average</td>\n",
       "      <td>0.241969</td>\n",
       "      <td>0.452847</td>\n",
       "      <td>0.405625</td>\n",
       "      <td>0.560125</td>\n",
       "    </tr>\n",
       "    <tr>\n",
       "      <th>3</th>\n",
       "      <td>1</td>\n",
       "      <td>N=1</td>\n",
       "      <td>ward</td>\n",
       "      <td>0.303384</td>\n",
       "      <td>0.472097</td>\n",
       "      <td>0.414242</td>\n",
       "      <td>0.511084</td>\n",
       "    </tr>\n",
       "    <tr>\n",
       "      <th>4</th>\n",
       "      <td>1</td>\n",
       "      <td>N=1</td>\n",
       "      <td>Spectral</td>\n",
       "      <td>0.140004</td>\n",
       "      <td>0.381907</td>\n",
       "      <td>0.340609</td>\n",
       "      <td>0.481130</td>\n",
       "    </tr>\n",
       "    <tr>\n",
       "      <th>...</th>\n",
       "      <td>...</td>\n",
       "      <td>...</td>\n",
       "      <td>...</td>\n",
       "      <td>...</td>\n",
       "      <td>...</td>\n",
       "      <td>...</td>\n",
       "      <td>...</td>\n",
       "    </tr>\n",
       "    <tr>\n",
       "      <th>495</th>\n",
       "      <td>100</td>\n",
       "      <td>N=100</td>\n",
       "      <td>single</td>\n",
       "      <td>1.000000</td>\n",
       "      <td>1.000000</td>\n",
       "      <td>1.000000</td>\n",
       "      <td>1.000000</td>\n",
       "    </tr>\n",
       "    <tr>\n",
       "      <th>496</th>\n",
       "      <td>100</td>\n",
       "      <td>N=100</td>\n",
       "      <td>complete</td>\n",
       "      <td>0.864276</td>\n",
       "      <td>0.919152</td>\n",
       "      <td>0.881106</td>\n",
       "      <td>0.920541</td>\n",
       "    </tr>\n",
       "    <tr>\n",
       "      <th>497</th>\n",
       "      <td>100</td>\n",
       "      <td>N=100</td>\n",
       "      <td>average</td>\n",
       "      <td>1.000000</td>\n",
       "      <td>1.000000</td>\n",
       "      <td>1.000000</td>\n",
       "      <td>1.000000</td>\n",
       "    </tr>\n",
       "    <tr>\n",
       "      <th>498</th>\n",
       "      <td>100</td>\n",
       "      <td>N=100</td>\n",
       "      <td>ward</td>\n",
       "      <td>1.000000</td>\n",
       "      <td>1.000000</td>\n",
       "      <td>1.000000</td>\n",
       "      <td>1.000000</td>\n",
       "    </tr>\n",
       "    <tr>\n",
       "      <th>499</th>\n",
       "      <td>100</td>\n",
       "      <td>N=100</td>\n",
       "      <td>Spectral</td>\n",
       "      <td>1.000000</td>\n",
       "      <td>1.000000</td>\n",
       "      <td>1.000000</td>\n",
       "      <td>1.000000</td>\n",
       "    </tr>\n",
       "  </tbody>\n",
       "</table>\n",
       "<p>500 rows × 7 columns</p>\n",
       "</div>"
      ],
      "text/plain": [
       "       N Distance    Method       ARI       AMI       FMI  Completeness\n",
       "0      1      N=1    single  0.000010 -0.000185  0.348492      0.254783\n",
       "1      1      N=1  complete  0.236353  0.443123  0.371230      0.493837\n",
       "2      1      N=1   average  0.241969  0.452847  0.405625      0.560125\n",
       "3      1      N=1      ward  0.303384  0.472097  0.414242      0.511084\n",
       "4      1      N=1  Spectral  0.140004  0.381907  0.340609      0.481130\n",
       "..   ...      ...       ...       ...       ...       ...           ...\n",
       "495  100    N=100    single  1.000000  1.000000  1.000000      1.000000\n",
       "496  100    N=100  complete  0.864276  0.919152  0.881106      0.920541\n",
       "497  100    N=100   average  1.000000  1.000000  1.000000      1.000000\n",
       "498  100    N=100      ward  1.000000  1.000000  1.000000      1.000000\n",
       "499  100    N=100  Spectral  1.000000  1.000000  1.000000      1.000000\n",
       "\n",
       "[500 rows x 7 columns]"
      ]
     },
     "execution_count": 2,
     "metadata": {},
     "output_type": "execute_result"
    }
   ],
   "source": [
    "import os\n",
    "import numpy as np\n",
    "import pandas as pd\n",
    "from itertools import combinations\n",
    "from tqdm import tqdm\n",
    "import matplotlib.pyplot as plt\n",
    "import seaborn as sns\n",
    "\n",
    "from scipy.spatial.distance import pdist\n",
    "from scipy.cluster.hierarchy import linkage, fcluster\n",
    "from sklearn.metrics import (\n",
    "    adjusted_rand_score, adjusted_mutual_info_score,\n",
    "    fowlkes_mallows_score, completeness_score\n",
    ")\n",
    "from sklearn.cluster import SpectralClustering\n",
    "\n",
    "# ======================= CARGA DE DATOS =======================\n",
    "df = pd.read_csv(r\"resultados_pipeline_20250425_070339\\spike_trains.csv\")\n",
    "\n",
    "neurons = df.drop(columns=['filter']).values\n",
    "filtros = df[\"filter\"].values\n",
    "true_labels = filtros \n",
    "num_neurons = len(neurons)\n",
    "\n",
    "# ======================= PARÁMETROS =======================\n",
    "N_values = list(range(1, 101)) #Cambiar la cantidad de senos y cosenos\n",
    "output_dir = \"matrices_distancia_optima\"\n",
    "os.makedirs(output_dir, exist_ok=True)\n",
    "LINKAGE_METHODS = [\"single\", \"complete\", \"average\", \"ward\"]\n",
    "\n",
    "# ======================= FUNCIONES AUXILIARES =======================\n",
    "def compute_phi_psi(spike_train, N):\n",
    "    spike_train = spike_train[~np.isnan(spike_train)]/21.5\n",
    "    phi = np.array([np.sum(np.sin(np.pi * spike_train * j)) for j in range(1, N+1)])\n",
    "    psi = np.array([np.sum(np.cos(np.pi * spike_train * k)) for k in range(1, N+1)])\n",
    "    \n",
    "\n",
    "    return phi, psi\n",
    "\n",
    "\n",
    "\n",
    "def heatmap_distancias(dist_matrix, title=\"Heatmap de Distancias\", save_path=None):\n",
    "    if not isinstance(dist_matrix, pd.DataFrame):\n",
    "        dist_df = pd.DataFrame(dist_matrix)\n",
    "    else:\n",
    "        dist_df = dist_matrix\n",
    "    plt.figure(figsize=(10, 8))\n",
    "    sns.heatmap(dist_df, cmap=\"viridis\", square=True)\n",
    "    plt.title(title)\n",
    "    plt.xlabel(\"Spike Train\")\n",
    "    plt.ylabel(\"Spike Train\")\n",
    "    plt.tight_layout()\n",
    "    if save_path:\n",
    "        plt.savefig(save_path)\n",
    "        print(f\"✅ Heatmap guardado en: {save_path}\")\n",
    "    plt.close()\n",
    "\n",
    "def heatmap_filtro_vs_cluster(filtros, clusters, method, distancia_label, ax):\n",
    "    df_temp = pd.DataFrame({\n",
    "        \"Filtro\": filtros,\n",
    "        \"Cluster\": clusters\n",
    "    })\n",
    "    crosstab = pd.crosstab(df_temp[\"Filtro\"], df_temp[\"Cluster\"])\n",
    "    sns.heatmap(crosstab, annot=True, fmt=\"d\", cmap=\"YlGnBu\", ax=ax)\n",
    "    ax.set_title(f\"{method} ({distancia_label})\")\n",
    "    ax.set_xlabel(\"Cluster\")\n",
    "    ax.set_ylabel(\"Filtro\")\n",
    "\n",
    "def evaluar_clusterings(dist_matrix, distancia_label, filtros, true_labels, LINKAGE_METHODS, N, N_CLUSTERS=8):\n",
    "    results = []\n",
    "    fig, axs = plt.subplots(2, 3, figsize=(18, 10))\n",
    "    axs = axs.flatten()\n",
    "    condensed = pdist(dist_matrix.values, metric=\"sqeuclidean\")\n",
    "\n",
    "    for idx, method in enumerate(LINKAGE_METHODS):\n",
    "        try:\n",
    "            linked = linkage(condensed, method=method)\n",
    "            clusters = fcluster(linked, t=N_CLUSTERS, criterion=\"maxclust\")\n",
    "            ari = adjusted_rand_score(true_labels, clusters)\n",
    "            ami = adjusted_mutual_info_score(true_labels, clusters)\n",
    "            fmi = fowlkes_mallows_score(true_labels, clusters)\n",
    "            completeness = completeness_score(true_labels, clusters)\n",
    "            results.append({\n",
    "                \"N\": N,\n",
    "                \"Distance\": distancia_label,\n",
    "                \"Method\": method,\n",
    "                \"ARI\": ari,\n",
    "                \"AMI\": ami,\n",
    "                \"FMI\": fmi,\n",
    "                \"Completeness\": completeness\n",
    "            })\n",
    "            heatmap_filtro_vs_cluster(filtros, clusters, method, distancia_label, axs[idx])\n",
    "        except Exception as e:\n",
    "            axs[idx].set_title(f\"{method} - error\")\n",
    "            axs[idx].axis(\"off\")\n",
    "\n",
    "    plt.tight_layout()\n",
    "    heatmap_file = os.path.join(output_dir, f\"clusters_vs_filtro_{distancia_label}.png\")\n",
    "    plt.savefig(heatmap_file)\n",
    "    plt.close()\n",
    "    return pd.DataFrame(results)\n",
    "\n",
    "\n",
    "def clustering_espectral(dist_matrix, filtros, true_labels, distancia_label, N):\n",
    "    results = []\n",
    "    fig, ax = plt.subplots(figsize=(8, 6))\n",
    "    try:\n",
    "        sigma = np.median(dist_matrix.values)\n",
    "        affinity = np.exp(-dist_matrix.values ** 2 / (2 * sigma ** 2))\n",
    "        spectral = SpectralClustering(n_clusters=8, affinity='precomputed', assign_labels='kmeans', random_state=0)\n",
    "        clusters = spectral.fit_predict(affinity)\n",
    "        ari = adjusted_rand_score(true_labels, clusters)\n",
    "        ami = adjusted_mutual_info_score(true_labels, clusters)\n",
    "        fmi = fowlkes_mallows_score(true_labels, clusters)\n",
    "        completeness = completeness_score(true_labels, clusters)\n",
    "        results.append({\n",
    "            \"N\": N,\n",
    "            \"Distance\": distancia_label,\n",
    "            \"Method\": \"Spectral\",\n",
    "            \"ARI\": ari,\n",
    "            \"AMI\": ami,\n",
    "            \"FMI\": fmi,\n",
    "            \"Completeness\": completeness\n",
    "        })\n",
    "        heatmap_filtro_vs_cluster(filtros, clusters, \"Spectral\", distancia_label, ax)\n",
    "        heatmap_file = os.path.join(output_dir, f\"clusters_vs_filtro_Spectral_{distancia_label}.png\")\n",
    "        plt.tight_layout()\n",
    "        plt.savefig(heatmap_file)\n",
    "        plt.close()\n",
    "    except Exception as e:\n",
    "        print(f\"Error en clustering espectral para {distancia_label}: {e}\")\n",
    "    return pd.DataFrame(results)\n",
    "\n",
    "\n",
    "# ======================= MAIN =======================\n",
    "all_results = []\n",
    "\n",
    "for N in tqdm(N_values, desc=\"Calculando matrices y evaluando clustering\"):\n",
    "    distancia_label = f\"N={N}\"\n",
    "    \n",
    "    # Calcular Phi y Psi\n",
    "    phi_psi = [compute_phi_psi(neurons[n], N) for n in range(num_neurons)]\n",
    "    \n",
    "    # Matriz de distancias\n",
    "    dist_matrix = np.zeros((num_neurons, num_neurons))\n",
    "    for i, j in combinations(range(num_neurons), 2):\n",
    "        phi_i, psi_i = phi_psi[i]\n",
    "        phi_j, psi_j = phi_psi[j]\n",
    "        delta_phi = phi_i - phi_j\n",
    "        delta_psi = psi_i - psi_j\n",
    "        distance = np.sum(delta_phi ** 2) + np.sum(delta_psi ** 2)\n",
    "        dist_matrix[i, j] = distance\n",
    "        dist_matrix[j, i] = distance\n",
    "\n",
    "    # Guardar CSV\n",
    "    df_matrix = pd.DataFrame(dist_matrix)\n",
    "    csv_path = os.path.join(output_dir, f\"dist_{distancia_label}.csv\")\n",
    "    df_matrix.to_csv(csv_path, index=False)\n",
    "\n",
    "    # Guardar heatmap\n",
    "    heatmap_path = os.path.join(output_dir, f\"heatmap_{distancia_label}.png\")\n",
    "    heatmap_distancias(df_matrix, title=f\"Heatmap N={N}\", save_path=heatmap_path)\n",
    "\n",
    "    # Evaluar clustering jerárquico\n",
    "    df_hier = evaluar_clusterings(df_matrix, distancia_label, filtros, true_labels, LINKAGE_METHODS, N)\n",
    "    df_spec = clustering_espectral(df_matrix, filtros, true_labels, distancia_label, N)\n",
    "    \n",
    "    all_results.append(df_hier)\n",
    "    all_results.append(df_spec)\n",
    "\n",
    "# ======================= GUARDAR RESULTADOS =======================\n",
    "df_total_resultados = pd.concat(all_results, ignore_index=True)\n",
    "\n",
    "\n",
    "df_total_resultados"
   ]
  },
  {
   "cell_type": "code",
   "execution_count": 4,
   "id": "d6aa76ce",
   "metadata": {},
   "outputs": [],
   "source": [
    "\n",
    "\n",
    "metrics = [\"ARI\", \"AMI\", \"FMI\", \"Completeness\"]\n",
    "\n",
    "# ========== FIGURA PARA WARD ==========\n",
    "method = \"ward\"\n",
    "df_method = df_total_resultados[df_total_resultados[\"Method\"] == method]\n",
    "\n",
    "fig, axs = plt.subplots(2, 2, figsize=(12,10))\n",
    "axs = axs.flatten()\n",
    "\n",
    "for idx, metric in enumerate(metrics):\n",
    "    axs[idx].plot(df_method[\"N\"], df_method[metric], marker=\"o\")\n",
    "    axs[idx].set_xlabel(\"N \")\n",
    "    axs[idx].set_ylabel(metric)\n",
    "    axs[idx].set_title(f\"{metric} vs N ({method})\")\n",
    "    axs[idx].grid(True)\n",
    "\n",
    "plt.tight_layout()\n",
    "plt.savefig(os.path.join(output_dir, f\"elbow_metrics_{method}.png\"))\n",
    "plt.close()\n",
    "\n",
    "\n",
    "# ========== FIGURA PARA SPECTRAL ==========\n",
    "method = \"Spectral\"\n",
    "df_method = df_total_resultados[df_total_resultados[\"Method\"] == method]\n",
    "\n",
    "fig, axs = plt.subplots(2, 2, figsize=(12,10))\n",
    "axs = axs.flatten()\n",
    "\n",
    "for idx, metric in enumerate(metrics):\n",
    "    axs[idx].plot(df_method[\"N\"], df_method[metric], marker=\"o\")\n",
    "    axs[idx].set_xlabel(\"N \")\n",
    "    axs[idx].set_ylabel(metric)\n",
    "    axs[idx].set_title(f\"{metric} vs N ({method})\")\n",
    "    axs[idx].grid(True)\n",
    "\n",
    "plt.tight_layout()\n",
    "plt.savefig(os.path.join(output_dir, f\"elbow_metrics_{method}.png\"))\n",
    "plt.close()\n"
   ]
  }
 ],
 "metadata": {
  "kernelspec": {
   "display_name": "Python 3",
   "language": "python",
   "name": "python3"
  },
  "language_info": {
   "codemirror_mode": {
    "name": "ipython",
    "version": 3
   },
   "file_extension": ".py",
   "mimetype": "text/x-python",
   "name": "python",
   "nbconvert_exporter": "python",
   "pygments_lexer": "ipython3",
   "version": "3.13.1"
  }
 },
 "nbformat": 4,
 "nbformat_minor": 5
}
