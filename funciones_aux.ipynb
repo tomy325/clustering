{
 "cells": [
  {
   "cell_type": "code",
   "execution_count": 2,
   "id": "f1e11854",
   "metadata": {},
   "outputs": [],
   "source": [
    "import matplotlib.pyplot as plt\n",
    "from sklearn.metrics import adjusted_rand_score, adjusted_mutual_info_score, fowlkes_mallows_score, completeness_score\n",
    "import seaborn as sns\n",
    "import pandas as pd"
   ]
  },
  {
   "cell_type": "code",
   "execution_count": 3,
   "id": "23c22f03",
   "metadata": {},
   "outputs": [],
   "source": [
    "def evaluar_y_graficar(true_labels, predicted_labels, title=\"Evaluación de Clustering\"):\n",
    "    \"\"\"\n",
    "    Calcula ARI, AMI, FMI, Completeness y genera un gráfico de barras.\n",
    "    \n",
    "    Parámetros:\n",
    "    - true_labels: lista o array con las etiquetas reales.\n",
    "    - predicted_labels: lista o array con los clusters generados.\n",
    "    - title: título opcional para el gráfico.\n",
    "    \n",
    "    Retorna:\n",
    "    - metrics_dict: diccionario con las métricas calculadas.\n",
    "    \"\"\"\n",
    "    # Calcular métricas\n",
    "    ari = adjusted_rand_score(true_labels, predicted_labels)\n",
    "    ami = adjusted_mutual_info_score(true_labels, predicted_labels)\n",
    "    fmi = fowlkes_mallows_score(true_labels, predicted_labels)\n",
    "    completeness = completeness_score(true_labels, predicted_labels)\n",
    "    \n",
    "    # Guardar resultados en dict\n",
    "    metrics_dict = {\n",
    "        \"ARI\": ari,\n",
    "        \"AMI\": ami,\n",
    "        \"FMI\": fmi,\n",
    "        \"Completeness\": completeness\n",
    "    }\n",
    "    \n",
    "    # Graficar\n",
    "    plt.figure(figsize=(6, 4))\n",
    "    plt.bar(metrics_dict.keys(), metrics_dict.values(), color=\"skyblue\")\n",
    "    plt.ylim(0, 1)\n",
    "    plt.title(title)\n",
    "    plt.ylabel(\"Valor\")\n",
    "    plt.grid(axis=\"y\", linestyle=\"--\", alpha=0.7)\n",
    "    plt.tight_layout()\n",
    "    plt.show()\n",
    "    \n",
    "    return metrics_dict\n"
   ]
  },
  {
   "cell_type": "code",
   "execution_count": 4,
   "id": "d66b4fe3",
   "metadata": {},
   "outputs": [],
   "source": [
    "def heatmap_distancias(dist_matrix, title=\"Heatmap de Distancias\", save_path=None):\n",
    "    \"\"\"\n",
    "    Genera un heatmap a partir de la matriz de distancias entre spike trains.\n",
    "    \n",
    "    Parámetros:\n",
    "    - dist_matrix: array o DataFrame (matriz de distancias simétrica).\n",
    "    - title: título opcional del gráfico.\n",
    "    - save_path: si se indica, guarda la imagen en esa ruta.\n",
    "    \"\"\"\n",
    "    # Si es array lo convertimos en DataFrame para tener índices bonitos\n",
    "    if not isinstance(dist_matrix, pd.DataFrame):\n",
    "        dist_df = pd.DataFrame(dist_matrix)\n",
    "    else:\n",
    "        dist_df = dist_matrix\n",
    "\n",
    "    plt.figure(figsize=(10, 8))\n",
    "    sns.heatmap(dist_df, cmap=\"YlGnBu\", square=True)\n",
    "    plt.title(title)\n",
    "    plt.xlabel(\"Spike Train\")\n",
    "    plt.ylabel(\"Spike Train\")\n",
    "    plt.tight_layout()\n",
    "    \n",
    "    if save_path:\n",
    "        plt.savefig(save_path)\n",
    "        print(f\"✅ Heatmap guardado en: {save_path}\")\n",
    "    plt.show()"
   ]
  }
 ],
 "metadata": {
  "kernelspec": {
   "display_name": "Python 3",
   "language": "python",
   "name": "python3"
  },
  "language_info": {
   "codemirror_mode": {
    "name": "ipython",
    "version": 3
   },
   "file_extension": ".py",
   "mimetype": "text/x-python",
   "name": "python",
   "nbconvert_exporter": "python",
   "pygments_lexer": "ipython3",
   "version": "3.13.1"
  }
 },
 "nbformat": 4,
 "nbformat_minor": 5
}
